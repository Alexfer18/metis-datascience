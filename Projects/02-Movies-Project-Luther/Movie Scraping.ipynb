{
 "cells": [
  {
   "cell_type": "code",
   "execution_count": 32,
   "metadata": {
    "collapsed": true
   },
   "outputs": [],
   "source": [
    "import pandas as pd\n",
    "import numpy as np\n",
    "from bs4 import BeautifulSoup\n",
    "import requests"
   ]
  },
  {
   "cell_type": "markdown",
   "metadata": {},
   "source": [
    "### Get movie URL list from all genres"
   ]
  },
  {
   "cell_type": "code",
   "execution_count": 19,
   "metadata": {
    "collapsed": false
   },
   "outputs": [],
   "source": [
    "df = pd.read_csv('allgenre.csv', na_values=['n/a','-'])"
   ]
  },
  {
   "cell_type": "code",
   "execution_count": 20,
   "metadata": {
    "collapsed": false
   },
   "outputs": [],
   "source": [
    "## Drop any rows with NaN\n",
    "df = df.dropna('index', how='any')"
   ]
  },
  {
   "cell_type": "code",
   "execution_count": 22,
   "metadata": {
    "collapsed": false
   },
   "outputs": [],
   "source": [
    "## Get rid of commas and $\n",
    "df['Gross'].replace(regex=True,inplace=True,to_replace=r'[\\$,]',value=r'')\n",
    "df['GrossTheaters'].replace(regex=True,inplace=True,to_replace=r'[\\$,]',value=r'')\n",
    "df['Opening'].replace(regex=True,inplace=True,to_replace=r'[\\$,]',value=r'')\n",
    "df['OpeningTheaters'].replace(regex=True,inplace=True,to_replace=r'[\\$,]',value=r'')\n",
    "\n",
    "## Coerce to proper data type\n",
    "df['Gross'] = pd.to_numeric(df['Gross'], errors = 'coerce')\n",
    "df['GrossTheaters'] = pd.to_numeric(df['GrossTheaters'])\n",
    "df['Opening'] = pd.to_numeric(df['Opening'])\n",
    "df['OpeningTheaters'] = pd.to_numeric(df['OpeningTheaters'])\n",
    "df['Date'] = pd.to_datetime(df['Date'])"
   ]
  },
  {
   "cell_type": "code",
   "execution_count": 29,
   "metadata": {
    "collapsed": false
   },
   "outputs": [],
   "source": [
    "## Keep only movies since year 2000\n",
    "new_movies = df[df['Date'] > pd.datetime(2000,1,1)]"
   ]
  },
  {
   "cell_type": "code",
   "execution_count": 31,
   "metadata": {
    "collapsed": false
   },
   "outputs": [],
   "source": [
    "movie_list = new_movies['URL']"
   ]
  },
  {
   "cell_type": "markdown",
   "metadata": {},
   "source": [
    "### Scrape movie pages"
   ]
  },
  {
   "cell_type": "code",
   "execution_count": 33,
   "metadata": {
    "collapsed": true
   },
   "outputs": [],
   "source": [
    "movie_url = 'http://www.boxofficemojo.com/movies/?id=revenant.htm'\n",
    "page = requests.get(movie_url).text\n",
    "soup = BeautifulSoup(page, \"lxml\")"
   ]
  },
  {
   "cell_type": "code",
   "execution_count": 45,
   "metadata": {
    "collapsed": true
   },
   "outputs": [],
   "source": [
    "movie_dets = list()"
   ]
  },
  {
   "cell_type": "code",
   "execution_count": 40,
   "metadata": {
    "collapsed": false
   },
   "outputs": [],
   "source": [
    "# soup.find_all('b')[1].text\n",
    "body = soup.find('div', {'id':'body'})"
   ]
  },
  {
   "cell_type": "code",
   "execution_count": 49,
   "metadata": {
    "collapsed": false
   },
   "outputs": [],
   "source": [
    "bold = body.find_all('b')\n",
    "title = bold[1].text\n",
    "studio = bold[3].text\n",
    "release = bold[4].text\n",
    "genre_category = bold[5].text\n",
    "runtime = bold[6].text\n",
    "rating = bold[7].text\n",
    "budget = bold[8].text\n",
    "domestic_gross = bold[10].text\n",
    "worldwide_gross = bold[13].text\n",
    "\n",
    "movie_dets.append([title, studio, release, genre_category, runtime, rating, budget, domestic_gross, worldwide_gross])"
   ]
  },
  {
   "cell_type": "code",
   "execution_count": 50,
   "metadata": {
    "collapsed": false
   },
   "outputs": [
    {
     "data": {
      "text/plain": [
       "[[u'The Revenant',\n",
       "  u'Fox',\n",
       "  u'December 25, 2015',\n",
       "  u'Action / Adventure',\n",
       "  u'2 hrs. 31 min.',\n",
       "  u'R',\n",
       "  u'$135 million',\n",
       "  u'$119,192,522',\n",
       "  u'$223,471,792'],\n",
       " [u'The Revenant',\n",
       "  u'Fox',\n",
       "  u'December 25, 2015',\n",
       "  u'Action / Adventure',\n",
       "  u'2 hrs. 31 min.',\n",
       "  u'R',\n",
       "  u'$135 million',\n",
       "  u'$119,192,522',\n",
       "  u'$223,471,792']]"
      ]
     },
     "execution_count": 50,
     "metadata": {},
     "output_type": "execute_result"
    }
   ],
   "source": [
    "movie_dets"
   ]
  },
  {
   "cell_type": "code",
   "execution_count": 65,
   "metadata": {
    "collapsed": true
   },
   "outputs": [],
   "source": [
    "people = body.find_all('div', {'class':'mp_box_content'})[2]"
   ]
  },
  {
   "cell_type": "code",
   "execution_count": 70,
   "metadata": {
    "collapsed": false,
    "scrolled": true
   },
   "outputs": [
    {
     "name": "stdout",
     "output_type": "stream",
     "text": [
      "<div class=\"mp_box_content\">\n",
      " <table>\n",
      "  <tr>\n",
      "   <td align=\"right\" valign=\"top\">\n",
      "    <font size=\"2\">\n",
      "     <a href=\"/people/?view=Director&amp;p=.htm\">\n",
      "      Director:\n",
      "     </a>\n",
      "    </font>\n",
      "   </td>\n",
      "   <td>\n",
      "    <font size=\"2\">\n",
      "     <a href=\"/people/chart/?view=Director&amp;id=alejandrogonzalezinarritu.htm\">\n",
      "      Alejandro González Iñárritu\n",
      "     </a>\n",
      "    </font>\n",
      "   </td>\n",
      "  </tr>\n",
      "  <tr>\n",
      "   <td align=\"right\" valign=\"top\">\n",
      "    <font size=\"2\">\n",
      "     <a href=\"/people/?view=Writer&amp;p=.htm\">\n",
      "      Writers:\n",
      "     </a>\n",
      "    </font>\n",
      "   </td>\n",
      "   <td>\n",
      "    <font size=\"2\">\n",
      "     <a href=\"/people/chart/?view=Writer&amp;id=alejandrogonzalezinarritu.htm\">\n",
      "      Alejandro González Iñárritu\n",
      "     </a>\n",
      "     <br/>\n",
      "     Mark Smith\n",
      "    </font>\n",
      "   </td>\n",
      "  </tr>\n",
      "  <tr>\n",
      "   <td align=\"right\" valign=\"top\">\n",
      "    <font size=\"2\">\n",
      "     <a href=\"/people/?view=Actor&amp;p=.htm\">\n",
      "      Actors:\n",
      "     </a>\n",
      "    </font>\n",
      "   </td>\n",
      "   <td>\n",
      "    <font size=\"2\">\n",
      "     <a href=\"/people/chart/?view=Actor&amp;id=leonardodicaprio.htm\">\n",
      "      Leonardo DiCaprio\n",
      "     </a>\n",
      "     <br/>\n",
      "     <a href=\"/people/chart/?view=Actor&amp;id=tomhardy.htm\">\n",
      "      Tom Hardy\n",
      "     </a>\n",
      "     <br/>\n",
      "     Domhnall Gleeson\n",
      "     <br/>\n",
      "     Will Poulter\n",
      "     <br/>\n",
      "     <a href=\"/people/chart/?view=Actor&amp;id=lukashaas.htm\">\n",
      "      Lukas Haas\n",
      "     </a>\n",
      "    </font>\n",
      "   </td>\n",
      "  </tr>\n",
      "  <tr>\n",
      "   <td align=\"right\" valign=\"top\">\n",
      "    <font size=\"2\">\n",
      "     <a href=\"/people/?view=Producer&amp;p=.htm\">\n",
      "      Producers:\n",
      "     </a>\n",
      "    </font>\n",
      "   </td>\n",
      "   <td>\n",
      "    <font size=\"2\">\n",
      "     <a href=\"/people/chart/?view=Producer&amp;id=stevegolin.htm\">\n",
      "      Steve Golin\n",
      "     </a>\n",
      "     <br/>\n",
      "     <a href=\"/people/chart/?view=Producer&amp;id=alejandrogonzalezinarritu.htm\">\n",
      "      Alejandro González Iñárritu\n",
      "     </a>\n",
      "     <br/>\n",
      "     David Kanter\n",
      "     <br/>\n",
      "     <a href=\"/people/chart/?view=Producer&amp;id=arnonmilchan.htm\">\n",
      "      Arnon Milchan\n",
      "     </a>\n",
      "     <br/>\n",
      "     Keith Redmon\n",
      "    </font>\n",
      "   </td>\n",
      "  </tr>\n",
      " </table>\n",
      "</div>\n"
     ]
    }
   ],
   "source": [
    "print people.prettify()"
   ]
  },
  {
   "cell_type": "code",
   "execution_count": 88,
   "metadata": {
    "collapsed": false
   },
   "outputs": [
    {
     "data": {
      "text/plain": [
       "u'Director:'"
      ]
     },
     "execution_count": 88,
     "metadata": {},
     "output_type": "execute_result"
    }
   ],
   "source": [
    "people.find_all('a')[0].text"
   ]
  },
  {
   "cell_type": "code",
   "execution_count": null,
   "metadata": {
    "collapsed": true
   },
   "outputs": [],
   "source": []
  }
 ],
 "metadata": {
  "kernelspec": {
   "display_name": "Python 2",
   "language": "python",
   "name": "python2"
  },
  "language_info": {
   "codemirror_mode": {
    "name": "ipython",
    "version": 2
   },
   "file_extension": ".py",
   "mimetype": "text/x-python",
   "name": "python",
   "nbconvert_exporter": "python",
   "pygments_lexer": "ipython2",
   "version": "2.7.10"
  }
 },
 "nbformat": 4,
 "nbformat_minor": 0
}
