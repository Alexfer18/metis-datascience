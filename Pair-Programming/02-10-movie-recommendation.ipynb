{
 "cells": [
  {
   "cell_type": "markdown",
   "metadata": {},
   "source": [
    "## Pair Problem - 2/10/16\n",
    "\n",
    "You are given a CSV file with two columns: UserID and MovieID. Each row lists a user and a movie they liked.\n",
    "\n",
    "1) Write a function that will take a MovieID and will return three movies that are similar to it (based on the similiarities in user likes).\n",
    "\n",
    "2) Write a function that will take a UserID and recommend three movies based on what they have liked."
   ]
  },
  {
   "cell_type": "markdown",
   "metadata": {},
   "source": [
    "# Method 1 "
   ]
  },
  {
   "cell_type": "code",
   "execution_count": null,
   "metadata": {
    "collapsed": true
   },
   "outputs": [],
   "source": [
    "import pandas as pd\n",
    "import random\n",
    "import collections\n",
    "\n",
    "movies_df = pd.read_csv('files/user_movie_likes.csv', names = ['UserID', 'MovieID'])\n",
    "\n",
    "## Make dataframe into a list of lists\n",
    "movies_list = [[u,m] for u,m in zip(movies_df.UserID.tolist(), movies_df.MovieID.tolist())]\n",
    "\n",
    "## Store user:movies in a default dict\n",
    "user_ratings = collections.defaultdict(list)\n",
    "for userID, movieID in movies_list:\n",
    "    user_ratings[userID].append(movieID)\n",
    "    \n",
    "## Find all frequent movie sets\n",
    "movie_sets = user_ratings.values()\n",
    "\n",
    "## Find all frequent movie sets that includes movieID\n",
    "def all_similar_movies(movieID):\n",
    "    similar = [m for m in movie_sets if movieID in m]\n",
    "    similar_flatten = [i for j in similar for i in j]\n",
    "    ## resulting movies are not unique. but i want to recommend popular movies more anyway\n",
    "    return similar_flatten\n",
    "\n",
    "## Pick 3 movies at random to serve\n",
    "random.sample(recommend_to_user(2), 3)\n",
    "\n",
    "## Take a user and find all similar movies of like movies\n",
    "def recommend_to_user(userID):\n",
    "    movies_liked = user_ratings[userID]\n",
    "    similar_movie_list = [all_similar_movies(m) for m in movies_liked]\n",
    "    flatten = [i for j in similar_movie_list for i in j]\n",
    "    return flatten\n",
    "\n",
    "random.sample(recommend_to_user(2), 3)"
   ]
  },
  {
   "cell_type": "markdown",
   "metadata": {
    "collapsed": true
   },
   "source": [
    "# Method 2"
   ]
  },
  {
   "cell_type": "code",
   "execution_count": null,
   "metadata": {
    "collapsed": true
   },
   "outputs": [],
   "source": [
    "import csv\n",
    "\n",
    "user_movie_map = defaultdict(list)\n",
    "movie_user_map = defaultdict(list)\n",
    "\n",
    "with open('user_movie_likes.csv', 'rb') as csvfile:\n",
    "    w = csv.reader(csvfile, delimiter=',')\n",
    "    for row in w:\n",
    "        user_movie_map[int(row[0])].append(int(row[1]))\n",
    "        movie_user_map[int(row[1])].append(int(row[0]))\n",
    "\n",
    "def get_similar_movie(user_movie_map,movie_user_map,m):\n",
    "    biglist = []\n",
    "    for u in movie_user_map[m]:\n",
    "        biglist.extend(user_movie_map[u])\n",
    "    return Counter(biglist).most_common(4)[1:]\n",
    "\n",
    "def get_movie_recommendation(user_movie_map,movie_user_map,u1):\n",
    "    biglist = []\n",
    "    for m in user_movie_map[u1]:\n",
    "        for u in movie_user_map[m]:\n",
    "            biglist.extend(user_movie_map[u])\n",
    "    return Counter(biglist).most_common(3)\n",
    "\n",
    "print get_similar_movie(user_movie_map,movie_user_map,2)\n",
    "\n",
    "print get_movie_recommendation(user_movie_map,movie_user_map,2)"
   ]
  },
  {
   "cell_type": "code",
   "execution_count": null,
   "metadata": {
    "collapsed": true
   },
   "outputs": [],
   "source": []
  }
 ],
 "metadata": {
  "kernelspec": {
   "display_name": "Python 2",
   "language": "python",
   "name": "python2"
  },
  "language_info": {
   "codemirror_mode": {
    "name": "ipython",
    "version": 2
   },
   "file_extension": ".py",
   "mimetype": "text/x-python",
   "name": "python",
   "nbconvert_exporter": "python",
   "pygments_lexer": "ipython2",
   "version": "2.7.11"
  }
 },
 "nbformat": 4,
 "nbformat_minor": 0
}
