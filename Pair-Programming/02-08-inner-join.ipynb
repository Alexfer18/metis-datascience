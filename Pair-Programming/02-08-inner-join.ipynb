{
 "cells": [
  {
   "cell_type": "code",
   "execution_count": 1,
   "metadata": {
    "collapsed": true
   },
   "outputs": [],
   "source": [
    "## Test cases\n",
    "list1 = [[27, 'dog', 5],\n",
    " [19, 'cat', 9],\n",
    " [33, 'bat', 3]]\n",
    "\n",
    "list2 = [[14, 8, 'elf'],\n",
    " [33, 7, 'fat'],\n",
    " [27, 2, 'rat']]"
   ]
  },
  {
   "cell_type": "code",
   "execution_count": 2,
   "metadata": {
    "collapsed": false
   },
   "outputs": [],
   "source": [
    "def inner_join(list1, list2):\n",
    "    \"\"\"\n",
    "    Input: 2 lists, and outputs an inner joined list\n",
    "    Creates dictionaries for both list, iterate through first list, if key also exist in second dictionary, \n",
    "    appends both dictionary's value to the result. Can easily be changed to a left join. Assuming that keys in\n",
    "    both lists are unique.\n",
    "    \"\"\"\n",
    "    dict1 = {item[0]:item[1:] for item in list1}\n",
    "    dict2 = {item[0]:item[1:] for item in list2}\n",
    "    \n",
    "    result = list()\n",
    "    \n",
    "    for key, value in dict1.items():\n",
    "        if key in dict2:\n",
    "            result.append([key] + dict1[key] + dict2[key])\n",
    "        \n",
    "    return result"
   ]
  },
  {
   "cell_type": "code",
   "execution_count": 3,
   "metadata": {
    "collapsed": false
   },
   "outputs": [
    {
     "data": {
      "text/plain": [
       "[[33, 'bat', 3, 7, 'fat'], [27, 'dog', 5, 2, 'rat']]"
      ]
     },
     "execution_count": 3,
     "metadata": {},
     "output_type": "execute_result"
    }
   ],
   "source": [
    "inner_join(list1, list2)"
   ]
  },
  {
   "cell_type": "code",
   "execution_count": 4,
   "metadata": {
    "collapsed": true
   },
   "outputs": [],
   "source": [
    "def inner_join2(list1, list2):\n",
    "    \"\"\"\n",
    "    This one attempts to be faster by building just 1 dictionary\n",
    "    \"\"\"\n",
    "    dict1 = {item[0]:item[1:] for item in list1}\n",
    "    \n",
    "    result = list()\n",
    "    \n",
    "    for entry in list2:\n",
    "        if entry[0] in dict1:\n",
    "            result.append([entry[0]] + dict1[entry[0]] + entry[1:])\n",
    "    return result\n",
    "        "
   ]
  },
  {
   "cell_type": "code",
   "execution_count": 5,
   "metadata": {
    "collapsed": false
   },
   "outputs": [
    {
     "data": {
      "text/plain": [
       "[[33, 'bat', 3, 7, 'fat'], [27, 'dog', 5, 2, 'rat']]"
      ]
     },
     "execution_count": 5,
     "metadata": {},
     "output_type": "execute_result"
    }
   ],
   "source": [
    "inner_join2(list1, list2)"
   ]
  },
  {
   "cell_type": "code",
   "execution_count": 7,
   "metadata": {
    "collapsed": false
   },
   "outputs": [],
   "source": [
    "## Making a big list to test performance\n",
    "import random\n",
    "random.seed(123)\n",
    "test1 = [[index] + [random.random() for _ in range(100)] for index in range(1000)]\n",
    "test2 = [[index] + [random.random() for _ in range(100)] for index in range(1000)]"
   ]
  },
  {
   "cell_type": "code",
   "execution_count": 8,
   "metadata": {
    "collapsed": false
   },
   "outputs": [
    {
     "name": "stdout",
     "output_type": "stream",
     "text": [
      "100 loops, best of 3: 6.11 ms per loop\n"
     ]
    }
   ],
   "source": [
    "%timeit inner_join(test1, test2)"
   ]
  },
  {
   "cell_type": "code",
   "execution_count": 9,
   "metadata": {
    "collapsed": false
   },
   "outputs": [
    {
     "name": "stdout",
     "output_type": "stream",
     "text": [
      "100 loops, best of 3: 4.75 ms per loop\n"
     ]
    }
   ],
   "source": [
    "%timeit inner_join2(test1, test2)"
   ]
  }
 ],
 "metadata": {
  "kernelspec": {
   "display_name": "Python 2",
   "language": "python",
   "name": "python2"
  },
  "language_info": {
   "codemirror_mode": {
    "name": "ipython",
    "version": 2
   },
   "file_extension": ".py",
   "mimetype": "text/x-python",
   "name": "python",
   "nbconvert_exporter": "python",
   "pygments_lexer": "ipython2",
   "version": "2.7.11"
  }
 },
 "nbformat": 4,
 "nbformat_minor": 0
}
