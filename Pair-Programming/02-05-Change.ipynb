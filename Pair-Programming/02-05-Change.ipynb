{
 "cells": [
  {
   "cell_type": "markdown",
   "metadata": {},
   "source": [
    "# Pair Problem - 2/5/2016\n",
    "Ozzie with Ken C\n",
    "\n",
    "This is a classic problem. This particular wording is taken from Cracking the Coding Interview (question 9.8):\n",
    "\n",
    "Given an infinite number of quarters (25 cents), dimes (10 cents), nickels (5 cents) and pennies (1 cent), write code to calculate the number of ways of representing n cents.\n",
    "The problem is started for you here, so you can just complete the following function definition:\n",
    "\n",
    "Suggestion: Think about simpler cases first, and feel free to add more doctests!"
   ]
  },
  {
   "cell_type": "markdown",
   "metadata": {},
   "source": [
    "## Gang of for loops:\n",
    "Straight forward method with for loop if number of coins are well defined.  \n",
    "Tracks all possible combinations, and then return length of combos list"
   ]
  },
  {
   "cell_type": "code",
   "execution_count": 5,
   "metadata": {
    "collapsed": false
   },
   "outputs": [],
   "source": [
    "def change1(cents, coins = [25, 10, 5, 1]):\n",
    "    combos = []\n",
    "\n",
    "    for q in range(cents//coins[0] + 1):\n",
    "        amount_q = cents - q*coins[0]\n",
    "\n",
    "        for d in range(amount_q // coins[1] + 1):\n",
    "            amount_d = amount_q - d*coins[1]\n",
    "\n",
    "            for n in range(amount_d // coins[2] + 1):\n",
    "                p = amount_d - n*coins[2]\n",
    "                combos.append([q, d, n, p])\n",
    " \n",
    "    return combos"
   ]
  },
  {
   "cell_type": "code",
   "execution_count": 6,
   "metadata": {
    "collapsed": false
   },
   "outputs": [
    {
     "data": {
      "text/plain": [
       "[[0, 0, 0, 17],\n",
       " [0, 0, 1, 12],\n",
       " [0, 0, 2, 7],\n",
       " [0, 0, 3, 2],\n",
       " [0, 1, 0, 7],\n",
       " [0, 1, 1, 2]]"
      ]
     },
     "execution_count": 6,
     "metadata": {},
     "output_type": "execute_result"
    }
   ],
   "source": [
    "change1(17)"
   ]
  },
  {
   "cell_type": "markdown",
   "metadata": {},
   "source": [
    "## Recusion\n",
    "But if I get various number of coins or denominations, I should use recursion:"
   ]
  },
  {
   "cell_type": "code",
   "execution_count": 7,
   "metadata": {
    "collapsed": true
   },
   "outputs": [],
   "source": [
    "def change2(cents, coins=[25, 10, 5, 1]):\n",
    "    if cents < 0 or not coins:\n",
    "        return 0\n",
    "    if cents == 0:\n",
    "        return 1\n",
    "    return change2(cents - coins[0], coins) + change2(cents, coins[1:])\n"
   ]
  },
  {
   "cell_type": "code",
   "execution_count": 8,
   "metadata": {
    "collapsed": false
   },
   "outputs": [
    {
     "data": {
      "text/plain": [
       "6"
      ]
     },
     "execution_count": 8,
     "metadata": {},
     "output_type": "execute_result"
    }
   ],
   "source": [
    "change2(17)"
   ]
  },
  {
   "cell_type": "markdown",
   "metadata": {
    "collapsed": true
   },
   "source": [
    "## Dynamic Programming\n",
    "For better efficiency"
   ]
  },
  {
   "cell_type": "code",
   "execution_count": 24,
   "metadata": {
    "collapsed": true
   },
   "outputs": [],
   "source": [
    "def change3(cents, coins=[1, 5, 10, 25]):\n",
    "    \n",
    "    combinations = [1]+[0]*cents\n",
    "#     print combinations\n",
    "    \n",
    "    for coin in coins:\n",
    "#         print nb_combinations\n",
    "        for sub_case in range(coin, cents+1):\n",
    "#             print sub_case\n",
    "            combinations[sub_case] += combinations[sub_case-coin]\n",
    "            \n",
    "    return combinations[cents]"
   ]
  },
  {
   "cell_type": "code",
   "execution_count": 25,
   "metadata": {
    "collapsed": false
   },
   "outputs": [
    {
     "data": {
      "text/plain": [
       "6"
      ]
     },
     "execution_count": 25,
     "metadata": {},
     "output_type": "execute_result"
    }
   ],
   "source": [
    "change3(17)"
   ]
  }
 ],
 "metadata": {
  "kernelspec": {
   "display_name": "Python 2",
   "language": "python",
   "name": "python2"
  },
  "language_info": {
   "codemirror_mode": {
    "name": "ipython",
    "version": 2
   },
   "file_extension": ".py",
   "mimetype": "text/x-python",
   "name": "python",
   "nbconvert_exporter": "python",
   "pygments_lexer": "ipython2",
   "version": "2.7.11"
  }
 },
 "nbformat": 4,
 "nbformat_minor": 0
}
