{
 "cells": [
  {
   "cell_type": "markdown",
   "metadata": {},
   "source": [
    "## Pair Programming - 1/26/16\n",
    "LONGEST WORD\n",
    "CHALLENGE DESCRIPTION:\n",
    "\n",
    "In this challenge you need to find the longest word in a sentence. If the sentence has more than one word of the same length you should pick the first one.\n",
    "\n",
    "INPUT SAMPLE:\n",
    "\n",
    "Your program should accept as its first argument a path to a filename. Input example is the following\n",
    "\n",
    "1 some line with text  \n",
    "2 another line\n",
    "\n",
    "Each line has one or more words. Each word is separated by space char.\n",
    "\n",
    "OUTPUT SAMPLE:  \n",
    "1 some  \n",
    "2 another\n",
    "\n",
    "Print the longest word in the following way."
   ]
  },
  {
   "cell_type": "code",
   "execution_count": 1,
   "metadata": {
    "collapsed": true
   },
   "outputs": [],
   "source": [
    "def long_word(my_str):\n",
    "    new_list = my_str.split()\n",
    "    long_in = 0\n",
    "    long_word = None\n",
    "    for word in new_list:\n",
    "        if len(word) > long_in:\n",
    "            long_word = word\n",
    "            long_in = len(word)\n",
    "    return(long_word)"
   ]
  },
  {
   "cell_type": "code",
   "execution_count": 2,
   "metadata": {
    "collapsed": false
   },
   "outputs": [
    {
     "name": "stdout",
     "output_type": "stream",
     "text": [
      "some\n",
      "another\n"
     ]
    }
   ],
   "source": [
    "print long_word('some line with text')\n",
    "print long_word('another line')"
   ]
  },
  {
   "cell_type": "code",
   "execution_count": 4,
   "metadata": {
    "collapsed": false
   },
   "outputs": [
    {
     "data": {
      "text/plain": [
       "'some'"
      ]
     },
     "execution_count": 4,
     "metadata": {},
     "output_type": "execute_result"
    }
   ],
   "source": [
    "def longest_word(sentence):\n",
    "    return max(sentence.split(), key = len)\n",
    "\n",
    "longest_word('some line with text')"
   ]
  },
  {
   "cell_type": "code",
   "execution_count": null,
   "metadata": {
    "collapsed": true
   },
   "outputs": [],
   "source": []
  }
 ],
 "metadata": {
  "kernelspec": {
   "display_name": "Python 2",
   "language": "python",
   "name": "python2"
  },
  "language_info": {
   "codemirror_mode": {
    "name": "ipython",
    "version": 2
   },
   "file_extension": ".py",
   "mimetype": "text/x-python",
   "name": "python",
   "nbconvert_exporter": "python",
   "pygments_lexer": "ipython2",
   "version": "2.7.10"
  }
 },
 "nbformat": 4,
 "nbformat_minor": 0
}
