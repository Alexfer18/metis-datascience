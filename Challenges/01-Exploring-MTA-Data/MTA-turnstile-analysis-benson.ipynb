{
 "cells": [
  {
   "cell_type": "markdown",
   "metadata": {},
   "source": [
    "### Ozzie Liu\n",
    "### Benson Challenge\n",
    "#### MTA Turnstile Data Analysis"
   ]
  },
  {
   "cell_type": "code",
   "execution_count": 1,
   "metadata": {
    "collapsed": true
   },
   "outputs": [],
   "source": [
    "import datetime\n",
    "import pandas as pd\n",
    "import collections"
   ]
  },
  {
   "cell_type": "code",
   "execution_count": 2,
   "metadata": {
    "collapsed": true
   },
   "outputs": [],
   "source": [
    "import pprint\n",
    "pp = pprint.PrettyPrinter(width = 140)"
   ]
  },
  {
   "cell_type": "markdown",
   "metadata": {},
   "source": [
    "## Challenge 1\n",
    "\n",
    "Open up a file, use csv reader to read it, make a python dict where there is a key for each (C/A, UNIT, SCP, STATION). These are the first four columns. The value for this key should be a list of lists. Each list in the list is the rest of the columns in a row"
   ]
  },
  {
   "cell_type": "markdown",
   "metadata": {},
   "source": [
    "### `read_file(filename)`\n",
    "Helper function that reads the turnstile data of given filename and returns a flat data frame"
   ]
  },
  {
   "cell_type": "code",
   "execution_count": 3,
   "metadata": {
    "collapsed": true
   },
   "outputs": [],
   "source": [
    "def read_file(filename):\n",
    "    data = pd.read_csv(filename)\n",
    "    \n",
    "    ## Just return first 500\n",
    "#     data = data.head(500)\n",
    "\n",
    "    \n",
    "    return data"
   ]
  },
  {
   "cell_type": "markdown",
   "metadata": {},
   "source": [
    "### `build_dictionary(df)`\n",
    "Helper function that takes a flat data frame input:\n",
    "\n",
    "`[C/A, UNIT, SCP, STATION, LINENAME, DIVISION, DATE, TIME, DESC, ENTRIES, EXITS]`\n",
    "\n",
    "and transforms and outputs it to a dictionary:\n",
    "\n",
    "```\n",
    "(C/A, UNIT, SCP, STATION) : [ [LINENAME, DIVISION, DATE, TIME, DESC, ENTRIES, EXITS],\n",
    "                              [LINENAME, DIVISION, DATE, TIME, DESC, ENTRIES, EXITS],\n",
    "                              ...\n",
    "                            ]\n",
    "```"
   ]
  },
  {
   "cell_type": "code",
   "execution_count": 4,
   "metadata": {
    "collapsed": false
   },
   "outputs": [],
   "source": [
    "def build_dictionary(raw):\n",
    "    ## the new dictionary. use defaultdict for simplicity\n",
    "    my_dict = collections.defaultdict(list)\n",
    "    \n",
    "    # For loop to add to defaultdict\n",
    "    for row_index, row in raw.iterrows():\n",
    "        key = tuple(row[0:4])\n",
    "        value = row[4:].tolist()\n",
    "        \n",
    "        ## Add them to the dictionary\n",
    "        my_dict[key].append(value)\n",
    "          \n",
    "    return my_dict"
   ]
  },
  {
   "cell_type": "code",
   "execution_count": 5,
   "metadata": {
    "collapsed": false
   },
   "outputs": [],
   "source": [
    "## Runs the helper functions to read the file and build dictionary\n",
    "filename = 'Raw/turnstile_150404.txt'\n",
    "raw = read_file(filename)\n",
    "# raw.head(3)\n",
    "\n",
    "my_dictionary = build_dictionary(raw)\n",
    "# pp.pprint(dict(my_dictionary))"
   ]
  },
  {
   "cell_type": "markdown",
   "metadata": {},
   "source": [
    "## Challenge 2\n",
    "Change data into a time series by converting date and time to datetime format"
   ]
  },
  {
   "cell_type": "markdown",
   "metadata": {},
   "source": [
    "### `convert_datetime(dict)`\n",
    "`covert_datetime(dict)` takes dictionary `dict` and converts the date and time columns to pandas' datetime format, keeping only the date and entry data\n",
    "\n",
    "input:\n",
    "```\n",
    "(C/A, UNIT, SCP, STATION) : [ [LINENAME, DIVISION, DATE, TIME, DESC, ENTRIES, EXITS], \n",
    "                              [LINENAME, DIVISION, DATE, TIME, DESC, ENTRIES, EXITS], ...\n",
    "                            ]\n",
    "```\n",
    "\n",
    "output:\n",
    "```\n",
    "(C/A, UNIT, SCP, STATION) : [ [DATETIME, ENTRIES],\n",
    "                              [DATETIME, ENTRIES], ...\n",
    "                            ]\n",
    "```"
   ]
  },
  {
   "cell_type": "code",
   "execution_count": 6,
   "metadata": {
    "collapsed": false
   },
   "outputs": [],
   "source": [
    "def convert_datetime(my_dict):\n",
    "    return { turnstile:[[pd.to_datetime(date + time, format='%m/%d/%Y%H:%M:%S'), entry] \n",
    "                                   for _, _, date, time, _, entry, _ in data] \n",
    "                                  for turnstile, data in my_dict.items() }"
   ]
  },
  {
   "cell_type": "code",
   "execution_count": null,
   "metadata": {
    "collapsed": false,
    "scrolled": true
   },
   "outputs": [],
   "source": [
    "datetime_dict = convert_datetime(my_dictionary)\n",
    "\n",
    "# pp.pprint(datetime_dict)\n",
    "# dict(datetime_dict.items()[0:2])"
   ]
  },
  {
   "cell_type": "markdown",
   "metadata": {},
   "source": [
    "### Challenge 3\n",
    "Calculate the total number of passengers that entered through each turnstile on each day."
   ]
  },
  {
   "cell_type": "markdown",
   "metadata": {},
   "source": [
    "### `calculate_daily_total(dictionary)`\n",
    "This function takes a dictionary with datetime format and calculates the daily total\n",
    "Input:\n",
    "```\n",
    "(C/A, UNIT, SCP, STATION) : [ [DATETIME (12AM), ENTRIES],\n",
    "                              [DATETIME (4AM), ENTRIES], ...\n",
    "                            ]\n",
    "```\n",
    "Output:\n",
    "```\n",
    "(C/A, UNIT, SCP, STATION) : [ [DATETIME (day 1), TOTAL ENTRIES],\n",
    "                              [DATETIME (day 2), TOTAL ENTRIES], ...\n",
    "                            ]\n",
    "```\n",
    "\n",
    "The approach here is to \n",
    "1. Find the set of all days observed in the timeframe of the file.\n",
    "2. Get all the time periods and entries data pairs of each day into a list\n",
    "3. Calculate today's minimum entry number from tomorrow's minimum. This ensures an accurate 24 hour period\n",
    "  - If there's no tomorrow, because it's already the last day, then use the maximum entry value of the same day\n",
    "4. Use this result and create a new dictionary with the proper keys\n",
    "5. Return the dictionary"
   ]
  },
  {
   "cell_type": "code",
   "execution_count": 8,
   "metadata": {
    "collapsed": false,
    "scrolled": true
   },
   "outputs": [],
   "source": [
    "def calculate_daily_total(my_dictionary):\n",
    "    result = dict()\n",
    "    \n",
    "    ## Get set of dates for turnstile file from first entry    ## This is unordered\n",
    "    dates = {datetime.date() for datetime, entry in my_dictionary.values()[0]}\n",
    "    \n",
    "    ## loop through each turnstile key and data\n",
    "    for turnstile_key, turnstile_data in my_dictionary.items():\n",
    "        result_list = list()\n",
    "        \n",
    "        ## loop through each date\n",
    "        for date in dates:\n",
    "            tomorrows_date = date + datetime.timedelta(days = 1)\n",
    "            todays_entries = [entry for day, entry in turnstile_data if day.date() == date]\n",
    "            \n",
    "            ## Check if there's a tomorrow. If tomorrow doesn't exist, just throw back a 0\n",
    "            try:\n",
    "                if tomorrows_date in dates:\n",
    "                    tomorrows_entries = [entry for day, entry in turnstile_data if day.date() == tomorrows_date]\n",
    "                    result_list.append([date, min(tomorrows_entries) - min(todays_entries)])\n",
    "                else:\n",
    "                    result_list.append([date, max(todays_entries)-min(todays_entries)])\n",
    "            except:\n",
    "                result_list.append([date, 0])\n",
    "                \n",
    "        ## Add this result to the result dictionary\n",
    "        result[turnstile_key] = result_list    \n",
    "    return result"
   ]
  },
  {
   "cell_type": "code",
   "execution_count": 9,
   "metadata": {
    "collapsed": false,
    "scrolled": true
   },
   "outputs": [],
   "source": [
    "daily_total = calculate_daily_total(datetime_dict)\n",
    "# pp.pprint(daily_total)"
   ]
  },
  {
   "cell_type": "markdown",
   "metadata": {},
   "source": [
    "## Challenge 4\n",
    "Plot the daily time series for a turnstile.  \n",
    "Input takes a dictionary processed with daily totals, and a specific turnstile key"
   ]
  },
  {
   "cell_type": "code",
   "execution_count": 10,
   "metadata": {
    "collapsed": true
   },
   "outputs": [],
   "source": [
    "%matplotlib inline\n",
    "import matplotlib.pyplot as plt\n",
    "\n",
    "## This function takes a dictionary and the turnstile's unique key and plots a simple time series plot\n",
    "def plot_turnstile(dictionary, key):\n",
    "    turnstile_data = sorted(dictionary[key])\n",
    "    \n",
    "    dates = [x[0] for x in turnstile_data]\n",
    "    counts = [x[1] for x in turnstile_data]\n",
    "\n",
    "    plt.figure(figsize=(10,5))\n",
    "    plt.plot(dates, counts)"
   ]
  },
  {
   "cell_type": "code",
   "execution_count": 13,
   "metadata": {
    "collapsed": false
   },
   "outputs": [
    {
     "data": {
      "image/png": "[encoded data removed]",
      "text/plain": [
       "<matplotlib.figure.Figure at 0x15292208>"
      ]
     },
     "metadata": {},
     "output_type": "display_data"
    }
   ],
   "source": [
    "plot_turnstile(daily_total, ('A030','R083','01-06-00','23 ST-5 AVE'))"
   ]
  },
  {
   "cell_type": "markdown",
   "metadata": {},
   "source": [
    "## Challenge 5\n",
    "Combine turnstiles in the same ControlArea/Unit/Station combo."
   ]
  },
  {
   "cell_type": "markdown",
   "metadata": {
    "collapsed": true
   },
   "source": [
    "input:\n",
    "```\n",
    "(C/A, UNIT, SCP, STATION) : [ [DATETIME (day 1), TOTAL ENTRIES],\n",
    "                              [DATETIME (day 2), TOTAL ENTRIES], ...\n",
    "                            ]\n",
    "```\n",
    "output:\n",
    "```\n",
    "(C/A, UNIT, STATION) : [ [DATETIME (day 1), TOTAL ENTRIES],\n",
    "                         [DATETIME (day 2), TOTAL ENTRIES], ...\n",
    "                       ]\n",
    "```"
   ]
  },
  {
   "cell_type": "code",
   "execution_count": 14,
   "metadata": {
    "collapsed": false,
    "scrolled": true
   },
   "outputs": [],
   "source": [
    "def calculate_station_total(dictionary):\n",
    "    station_dict = collections.defaultdict(list)\n",
    "\n",
    "    ## Combine all stations in a dictionary\n",
    "    for index, turnstile_data in dictionary.items():\n",
    "#         print index, turnstile_data\n",
    "        \n",
    "        ## Sum up the total of entries across turnstiles by adding it to a temporary dictionary.\n",
    "        turnstile_total = dict()\n",
    "        for date, entry in turnstile_data:\n",
    "            if date not in turnstile_total:\n",
    "                turnstile_total[date] = entry\n",
    "            else:\n",
    "                turnstile_total[date] += entry\n",
    "\n",
    "        station_dict[ (index[0], index[1], index[3]) ] = [[date, entry] for date, entry in turnstile_total.items()]\n",
    "\n",
    "    return dict(station_dict)"
   ]
  },
  {
   "cell_type": "code",
   "execution_count": 15,
   "metadata": {
    "collapsed": false
   },
   "outputs": [],
   "source": [
    "station_total = calculate_station_total(daily_total)\n",
    "# station_total = calculate_station_total(daily_total)\n",
    "\n",
    "# pp.pprint(station_total)"
   ]
  },
  {
   "cell_type": "markdown",
   "metadata": {
    "collapsed": true
   },
   "source": [
    "## Challenge 7\n",
    "Plot the time series for a station."
   ]
  },
  {
   "cell_type": "code",
   "execution_count": 20,
   "metadata": {
    "collapsed": false
   },
   "outputs": [
    {
     "data": {
      "image/png": "[encoded data removed]",
      "text/plain": [
       "<matplotlib.figure.Figure at 0x13a04588>"
      ]
     },
     "metadata": {},
     "output_type": "display_data"
    }
   ],
   "source": [
    "plot_turnstile(station_total, ('A002','R051','LEXINGTON AVE'))"
   ]
  },
  {
   "cell_type": "markdown",
   "metadata": {},
   "source": [
    "## Challenge 8\n",
    "\n",
    "Make one list of counts for one week for one station. Monday's count, Tuesday's count, etc. so it's a list of 7 counts.  \n",
    "Make the same list for another week, and another week, and another week.  \n",
    "\n",
    "plt.plot(week_count_list) for every week_count_list you created this way. You should get a rainbow plot of weekly commute numbers on top of each other."
   ]
  },
  {
   "cell_type": "markdown",
   "metadata": {},
   "source": [
    "Gets a station, and pull the last 6 weeks of data, reads it, process it, and plot the weekly schedule."
   ]
  },
  {
   "cell_type": "code",
   "execution_count": 21,
   "metadata": {
    "collapsed": false
   },
   "outputs": [
    {
     "data": {
      "text/plain": [
       "[<matplotlib.lines.Line2D at 0x12c38cf8>]"
      ]
     },
     "execution_count": 21,
     "metadata": {},
     "output_type": "execute_result"
    },
    {
     "data": {
      "image/png": "[encoded data removed]",
      "text/plain": [
       "<matplotlib.figure.Figure at 0x135d0668>"
      ]
     },
     "metadata": {},
     "output_type": "display_data"
    }
   ],
   "source": [
    "## Test functions\n",
    "station = ('A002','R051','LEXINGTON AVE')\n",
    "week1 = [entry for date, entry in sorted(station_total[station])]\n",
    "\n",
    "plt.plot(week1)"
   ]
  },
  {
   "cell_type": "markdown",
   "metadata": {},
   "source": [
    "`plot_weekly` will take a list of raw files and the station id and plot a graph of Sunday-Saturday subway entrances"
   ]
  },
  {
   "cell_type": "code",
   "execution_count": 24,
   "metadata": {
    "collapsed": false
   },
   "outputs": [],
   "source": [
    "%matplotlib inline\n",
    "import matplotlib.pyplot as plt\n",
    "\n",
    "def plot_weekly(station, file_list):\n",
    "\n",
    "    for file in file_list:\n",
    "        raw = read_file('Raw/'+file)\n",
    "        dictionary = build_dictionary(raw)\n",
    "        datetime_dict = convert_datetime(dictionary)\n",
    "        daily_total = calculate_daily_total(datetime_dict)\n",
    "        station_total = calculate_station_total(daily_total)\n",
    "        week = [entry for date, entry in sorted(station_total[station])]\n",
    "\n",
    "        plt.plot(week)\n",
    "    \n",
    "    plt.show()"
   ]
  },
  {
   "cell_type": "code",
   "execution_count": 25,
   "metadata": {
    "collapsed": false
   },
   "outputs": [
    {
     "data": {
      "image/png": "[encoded data removed]",
      "text/plain": [
       "<matplotlib.figure.Figure at 0x12a5e7f0>"
      ]
     },
     "metadata": {},
     "output_type": "display_data"
    }
   ],
   "source": [
    "file_names = ['turnstile_150404.txt', 'turnstile_150411.txt', 'turnstile_150418.txt', 'turnstile_150425.txt',\n",
    "            'turnstile_150502.txt', 'turnstile_150509.txt']\n",
    "\n",
    "station = ('N067', 'R012', '34 ST-PENN STA')\n",
    "\n",
    "plot_weekly(station, file_names)"
   ]
  },
  {
   "cell_type": "markdown",
   "metadata": {},
   "source": [
    "## Challenge 9\n",
    "Over multiple weeks, sum total ridership for each station and sort them, so you can find out the stations with the highest traffic during the time you investigate"
   ]
  },
  {
   "cell_type": "code",
   "execution_count": 26,
   "metadata": {
    "collapsed": false
   },
   "outputs": [],
   "source": [
    "## The script below gets all the data from a 6 week period from the file_names list, processes it, and sums up the total ridership\n",
    "## total_ridership is a dictionary that holds the data, which we can subsequently plot, and sort to see the most popular stations\n",
    "\n",
    "total_ridership = dict()\n",
    "\n",
    "for file in file_names:\n",
    "    raw = read_file('Raw/'+file)\n",
    "    dictionary = build_dictionary(raw)\n",
    "    datetime_dict = convert_datetime(dictionary)\n",
    "    daily_total = calculate_daily_total(datetime_dict)\n",
    "    station_total = calculate_station_total(daily_total)\n",
    "    \n",
    "    for station, entries in station_total.items():\n",
    "        if station in total_ridership:\n",
    "            total_ridership[station] += sum([count for _, count in entries])\n",
    "        else:\n",
    "            total_ridership[station] = sum([count for _, count in entries])  \n"
   ]
  },
  {
   "cell_type": "code",
   "execution_count": null,
   "metadata": {
    "collapsed": false
   },
   "outputs": [],
   "source": [
    "pp.pprint(total_ridership)"
   ]
  },
  {
   "cell_type": "code",
   "execution_count": null,
   "metadata": {
    "collapsed": false
   },
   "outputs": [],
   "source": [
    "## Print a list of the most popular subwa stations in this 6 weeks\n",
    "sorted(total_ridership.items(), key = lambda x: x[1], reverse = True)\n"
   ]
  },
  {
   "cell_type": "code",
   "execution_count": null,
   "metadata": {
    "collapsed": true
   },
   "outputs": [],
   "source": []
  }
 ],
 "metadata": {
  "kernelspec": {
   "display_name": "Python 2",
   "language": "python",
   "name": "python2"
  },
  "language_info": {
   "codemirror_mode": {
    "name": "ipython",
    "version": 2
   },
   "file_extension": ".py",
   "mimetype": "text/x-python",
   "name": "python",
   "nbconvert_exporter": "python",
   "pygments_lexer": "ipython2",
   "version": "2.7.11"
  }
 },
 "nbformat": 4,
 "nbformat_minor": 0
}
