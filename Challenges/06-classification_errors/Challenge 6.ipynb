{
 "cells": [
  {
   "cell_type": "markdown",
   "metadata": {},
   "source": [
    "# Challenge 6 - Classification Error\n",
    "\n",
    "Classification Error Metric Challenges  \n",
    "Ozzie Liu  \n",
    "2/14/2016"
   ]
  },
  {
   "cell_type": "code",
   "execution_count": 1,
   "metadata": {
    "collapsed": true
   },
   "outputs": [],
   "source": [
    "import pandas as pd\n",
    "import numpy as np\n",
    "\n",
    "from sklearn.cross_validation import train_test_split\n",
    "from sklearn.linear_model import LogisticRegression\n",
    "from sklearn.neighbors import KNeighborsClassifier\n",
    "from sklearn.naive_bayes import GaussianNB\n",
    "from sklearn.svm import SVC\n",
    "from sklearn.tree import DecisionTreeClassifier\n",
    "from sklearn.ensemble import RandomForestClassifier\n",
    "\n",
    "from sklearn.metrics import precision_score\n",
    "from sklearn.metrics import accuracy_score\n",
    "from sklearn.metrics import f1_score\n",
    "from sklearn.metrics import recall_score\n",
    "from sklearn.metrics import auc\n",
    "from sklearn.metrics import roc_curve\n",
    "\n",
    "from sklearn.cross_validation import cross_val_score\n",
    "\n",
    "import matplotlib.pyplot as plt\n",
    "import seaborn\n",
    "%matplotlib inline"
   ]
  },
  {
   "cell_type": "markdown",
   "metadata": {},
   "source": [
    "## Challenge 1\n",
    "\n",
    "For the house representatives data set, calculate the accuracy, precision, recall and f1 scores of each classifier you built (on the test set)."
   ]
  },
  {
   "cell_type": "markdown",
   "metadata": {},
   "source": [
    "### Loading the Data\n",
    "Loading the same data file, and using same random state and parameters, I make the same classifiers as challenge 5"
   ]
  },
  {
   "cell_type": "code",
   "execution_count": 2,
   "metadata": {
    "collapsed": false
   },
   "outputs": [],
   "source": [
    "column_names = ['party', 'handicap', 'water', 'budget', 'physician', 'elsavador', 'religion', 'satellite', 'nicaraguan',\n",
    "               'missile', 'immigration', 'snyfuels', 'education', 'superfund', 'crime', 'dutyfree', 'export']\n",
    "\n",
    "house_votes = pd.read_csv(\"../05-Classification/house-votes-84.data\", names=column_names)\n",
    "house_votes.replace(to_replace=['y', 'n', '?', 'republican', 'democrat'], \n",
    "                    value=[1, 0, np.nan, 1, 0], inplace = True)\n",
    "house_votes = house_votes.fillna(house_votes.mean())\n",
    "\n",
    "X = house_votes.drop(['party'], 1)\n",
    "y = house_votes.party"
   ]
  },
  {
   "cell_type": "code",
   "execution_count": 3,
   "metadata": {
    "collapsed": true
   },
   "outputs": [],
   "source": [
    "X_train, X_test, y_train, y_test = train_test_split(X, y, test_size=0.3, random_state=4444)"
   ]
  },
  {
   "cell_type": "code",
   "execution_count": 4,
   "metadata": {
    "collapsed": false
   },
   "outputs": [
    {
     "data": {
      "text/html": [
       "<div>\n",
       "<table border=\"1\" class=\"dataframe\">\n",
       "  <thead>\n",
       "    <tr style=\"text-align: right;\">\n",
       "      <th></th>\n",
       "      <th>party</th>\n",
       "      <th>handicap</th>\n",
       "      <th>water</th>\n",
       "      <th>budget</th>\n",
       "      <th>physician</th>\n",
       "      <th>elsavador</th>\n",
       "      <th>religion</th>\n",
       "      <th>satellite</th>\n",
       "      <th>nicaraguan</th>\n",
       "      <th>missile</th>\n",
       "      <th>immigration</th>\n",
       "      <th>snyfuels</th>\n",
       "      <th>education</th>\n",
       "      <th>superfund</th>\n",
       "      <th>crime</th>\n",
       "      <th>dutyfree</th>\n",
       "      <th>export</th>\n",
       "    </tr>\n",
       "  </thead>\n",
       "  <tbody>\n",
       "    <tr>\n",
       "      <th>0</th>\n",
       "      <td>1</td>\n",
       "      <td>0.00000</td>\n",
       "      <td>1</td>\n",
       "      <td>0</td>\n",
       "      <td>1.000000</td>\n",
       "      <td>1.000000</td>\n",
       "      <td>1</td>\n",
       "      <td>0</td>\n",
       "      <td>0</td>\n",
       "      <td>0</td>\n",
       "      <td>1</td>\n",
       "      <td>0.362319</td>\n",
       "      <td>1.000000</td>\n",
       "      <td>1</td>\n",
       "      <td>1</td>\n",
       "      <td>0</td>\n",
       "      <td>1.000000</td>\n",
       "    </tr>\n",
       "    <tr>\n",
       "      <th>1</th>\n",
       "      <td>1</td>\n",
       "      <td>0.00000</td>\n",
       "      <td>1</td>\n",
       "      <td>0</td>\n",
       "      <td>1.000000</td>\n",
       "      <td>1.000000</td>\n",
       "      <td>1</td>\n",
       "      <td>0</td>\n",
       "      <td>0</td>\n",
       "      <td>0</td>\n",
       "      <td>0</td>\n",
       "      <td>0.000000</td>\n",
       "      <td>1.000000</td>\n",
       "      <td>1</td>\n",
       "      <td>1</td>\n",
       "      <td>0</td>\n",
       "      <td>0.812689</td>\n",
       "    </tr>\n",
       "    <tr>\n",
       "      <th>2</th>\n",
       "      <td>0</td>\n",
       "      <td>0.44208</td>\n",
       "      <td>1</td>\n",
       "      <td>1</td>\n",
       "      <td>0.417453</td>\n",
       "      <td>1.000000</td>\n",
       "      <td>1</td>\n",
       "      <td>0</td>\n",
       "      <td>0</td>\n",
       "      <td>0</td>\n",
       "      <td>0</td>\n",
       "      <td>1.000000</td>\n",
       "      <td>0.000000</td>\n",
       "      <td>1</td>\n",
       "      <td>1</td>\n",
       "      <td>0</td>\n",
       "      <td>0.000000</td>\n",
       "    </tr>\n",
       "    <tr>\n",
       "      <th>3</th>\n",
       "      <td>0</td>\n",
       "      <td>0.00000</td>\n",
       "      <td>1</td>\n",
       "      <td>1</td>\n",
       "      <td>0.000000</td>\n",
       "      <td>0.504762</td>\n",
       "      <td>1</td>\n",
       "      <td>0</td>\n",
       "      <td>0</td>\n",
       "      <td>0</td>\n",
       "      <td>0</td>\n",
       "      <td>1.000000</td>\n",
       "      <td>0.000000</td>\n",
       "      <td>1</td>\n",
       "      <td>0</td>\n",
       "      <td>0</td>\n",
       "      <td>1.000000</td>\n",
       "    </tr>\n",
       "    <tr>\n",
       "      <th>4</th>\n",
       "      <td>0</td>\n",
       "      <td>1.00000</td>\n",
       "      <td>1</td>\n",
       "      <td>1</td>\n",
       "      <td>0.000000</td>\n",
       "      <td>1.000000</td>\n",
       "      <td>1</td>\n",
       "      <td>0</td>\n",
       "      <td>0</td>\n",
       "      <td>0</td>\n",
       "      <td>0</td>\n",
       "      <td>1.000000</td>\n",
       "      <td>0.423267</td>\n",
       "      <td>1</td>\n",
       "      <td>1</td>\n",
       "      <td>1</td>\n",
       "      <td>1.000000</td>\n",
       "    </tr>\n",
       "  </tbody>\n",
       "</table>\n",
       "</div>"
      ],
      "text/plain": [
       "   party  handicap  water  budget  physician  elsavador  religion  satellite  \\\n",
       "0      1   0.00000      1       0   1.000000   1.000000         1          0   \n",
       "1      1   0.00000      1       0   1.000000   1.000000         1          0   \n",
       "2      0   0.44208      1       1   0.417453   1.000000         1          0   \n",
       "3      0   0.00000      1       1   0.000000   0.504762         1          0   \n",
       "4      0   1.00000      1       1   0.000000   1.000000         1          0   \n",
       "\n",
       "   nicaraguan  missile  immigration  snyfuels  education  superfund  crime  \\\n",
       "0           0        0            1  0.362319   1.000000          1      1   \n",
       "1           0        0            0  0.000000   1.000000          1      1   \n",
       "2           0        0            0  1.000000   0.000000          1      1   \n",
       "3           0        0            0  1.000000   0.000000          1      0   \n",
       "4           0        0            0  1.000000   0.423267          1      1   \n",
       "\n",
       "   dutyfree    export  \n",
       "0         0  1.000000  \n",
       "1         0  0.812689  \n",
       "2         0  0.000000  \n",
       "3         0  1.000000  \n",
       "4         1  1.000000  "
      ]
     },
     "execution_count": 4,
     "metadata": {},
     "output_type": "execute_result"
    }
   ],
   "source": [
    "house_votes.head()"
   ]
  },
  {
   "cell_type": "markdown",
   "metadata": {},
   "source": [
    "### Calculate Accuracy, Precision, Recall, and F1"
   ]
  },
  {
   "cell_type": "code",
   "execution_count": 5,
   "metadata": {
    "collapsed": false
   },
   "outputs": [],
   "source": [
    "models = [KNeighborsClassifier(6), \n",
    "          LogisticRegression(),\n",
    "          GaussianNB(),\n",
    "          SVC(probability=True),\n",
    "          DecisionTreeClassifier(),\n",
    "          RandomForestClassifier()]\n",
    "\n",
    "model_names = ['KNN', 'Logistic', 'Naive Bayes', 'SVM', 'Decision Tree', 'Random Forest']"
   ]
  },
  {
   "cell_type": "code",
   "execution_count": 6,
   "metadata": {
    "collapsed": false
   },
   "outputs": [
    {
     "data": {
      "text/html": [
       "<div>\n",
       "<table border=\"1\" class=\"dataframe\">\n",
       "  <thead>\n",
       "    <tr style=\"text-align: right;\">\n",
       "      <th></th>\n",
       "      <th>accuracy</th>\n",
       "      <th>f1-dem</th>\n",
       "      <th>f1-rep</th>\n",
       "      <th>precision-dem</th>\n",
       "      <th>precision-rep</th>\n",
       "      <th>recall-dem</th>\n",
       "      <th>recall-rep</th>\n",
       "    </tr>\n",
       "  </thead>\n",
       "  <tbody>\n",
       "    <tr>\n",
       "      <th>KNN</th>\n",
       "      <td>0.931298</td>\n",
       "      <td>0.942675</td>\n",
       "      <td>0.914286</td>\n",
       "      <td>0.925000</td>\n",
       "      <td>0.941176</td>\n",
       "      <td>0.961039</td>\n",
       "      <td>0.888889</td>\n",
       "    </tr>\n",
       "    <tr>\n",
       "      <th>Logistic</th>\n",
       "      <td>0.938931</td>\n",
       "      <td>0.949367</td>\n",
       "      <td>0.923077</td>\n",
       "      <td>0.925926</td>\n",
       "      <td>0.960000</td>\n",
       "      <td>0.974026</td>\n",
       "      <td>0.888889</td>\n",
       "    </tr>\n",
       "    <tr>\n",
       "      <th>Naive Bayes</th>\n",
       "      <td>0.938931</td>\n",
       "      <td>0.950000</td>\n",
       "      <td>0.921569</td>\n",
       "      <td>0.915663</td>\n",
       "      <td>0.979167</td>\n",
       "      <td>0.987013</td>\n",
       "      <td>0.870370</td>\n",
       "    </tr>\n",
       "    <tr>\n",
       "      <th>SVM</th>\n",
       "      <td>0.954198</td>\n",
       "      <td>0.961538</td>\n",
       "      <td>0.943396</td>\n",
       "      <td>0.949367</td>\n",
       "      <td>0.961538</td>\n",
       "      <td>0.974026</td>\n",
       "      <td>0.925926</td>\n",
       "    </tr>\n",
       "    <tr>\n",
       "      <th>Decision Tree</th>\n",
       "      <td>0.954198</td>\n",
       "      <td>0.961538</td>\n",
       "      <td>0.943396</td>\n",
       "      <td>0.949367</td>\n",
       "      <td>0.961538</td>\n",
       "      <td>0.974026</td>\n",
       "      <td>0.925926</td>\n",
       "    </tr>\n",
       "    <tr>\n",
       "      <th>Random Forest</th>\n",
       "      <td>0.961832</td>\n",
       "      <td>0.968153</td>\n",
       "      <td>0.952381</td>\n",
       "      <td>0.950000</td>\n",
       "      <td>0.980392</td>\n",
       "      <td>0.987013</td>\n",
       "      <td>0.925926</td>\n",
       "    </tr>\n",
       "  </tbody>\n",
       "</table>\n",
       "</div>"
      ],
      "text/plain": [
       "               accuracy    f1-dem    f1-rep  precision-dem  precision-rep  \\\n",
       "KNN            0.931298  0.942675  0.914286       0.925000       0.941176   \n",
       "Logistic       0.938931  0.949367  0.923077       0.925926       0.960000   \n",
       "Naive Bayes    0.938931  0.950000  0.921569       0.915663       0.979167   \n",
       "SVM            0.954198  0.961538  0.943396       0.949367       0.961538   \n",
       "Decision Tree  0.954198  0.961538  0.943396       0.949367       0.961538   \n",
       "Random Forest  0.961832  0.968153  0.952381       0.950000       0.980392   \n",
       "\n",
       "               recall-dem  recall-rep  \n",
       "KNN              0.961039    0.888889  \n",
       "Logistic         0.974026    0.888889  \n",
       "Naive Bayes      0.987013    0.870370  \n",
       "SVM              0.974026    0.925926  \n",
       "Decision Tree    0.974026    0.925926  \n",
       "Random Forest    0.987013    0.925926  "
      ]
     },
     "execution_count": 6,
     "metadata": {},
     "output_type": "execute_result"
    }
   ],
   "source": [
    "accuracy = []\n",
    "precision_rep = []\n",
    "precision_dem = []\n",
    "recall_rep = []\n",
    "recall_dem = []\n",
    "f1_rep = []\n",
    "f1_dem = []\n",
    "\n",
    "## Go through the models and find the scores\n",
    "for model in models:\n",
    "    model.fit(X_train, y_train)\n",
    "    y_hat = model.predict(X_test)\n",
    "    \n",
    "    accuracy.append( accuracy_score(y_test, y_hat) )\n",
    "    precision_rep.append( precision_score(y_test, y_hat, pos_label=1) )\n",
    "    precision_dem.append( precision_score(y_test, y_hat, pos_label=0) )\n",
    "    recall_rep.append( recall_score(y_test, y_hat, pos_label=1))\n",
    "    recall_dem.append( recall_score(y_test, y_hat, pos_label=0))\n",
    "    f1_rep.append( f1_score(y_test, y_hat, pos_label=1) )\n",
    "    f1_dem.append( f1_score(y_test, y_hat, pos_label=0) )\n",
    "\n",
    "accuracy_df = pd.DataFrame({'accuracy':accuracy, 'precision-rep':precision_rep, 'precision-dem':precision_dem,\n",
    "                            'recall-rep':recall_rep, 'recall-dem':recall_dem, 'f1-rep':f1_rep, 'f1-dem':f1_dem})\n",
    "accuracy_df.set_index([model_names])"
   ]
  },
  {
   "cell_type": "markdown",
   "metadata": {},
   "source": [
    "## Challenge 2\n",
    "\n",
    "For each, draw the ROC curve and calculate the AUC."
   ]
  },
  {
   "cell_type": "code",
   "execution_count": 7,
   "metadata": {
    "collapsed": false
   },
   "outputs": [],
   "source": [
    "## Transform republican/democrat to 1/0\n",
    "y_test = np.array(y_test)"
   ]
  },
  {
   "cell_type": "code",
   "execution_count": 8,
   "metadata": {
    "collapsed": false,
    "scrolled": true
   },
   "outputs": [],
   "source": [
    "## Calc and store each ROC and AUC\n",
    "fpr_list = []\n",
    "tpr_list = []\n",
    "auc_list = []\n",
    "for model in models:\n",
    "    y_hat_prob = model.predict_proba(X_test)[:,1]\n",
    "    fpr, tpr, _ = roc_curve(y_test, y_hat_prob)\n",
    "    fpr_list.append(fpr)\n",
    "    tpr_list.append(tpr)\n",
    "    auc_list.append(auc(fpr, tpr))"
   ]
  },
  {
   "cell_type": "code",
   "execution_count": 9,
   "metadata": {
    "collapsed": false
   },
   "outputs": [
    {
     "data": {
      "text/plain": [
       "<matplotlib.legend.Legend at 0x109513650>"
      ]
     },
     "execution_count": 9,
     "metadata": {},
     "output_type": "execute_result"
    },
    {
     "data": {
      "image/png": "[encoded data removed]",
      "text/plain": [
       "<matplotlib.figure.Figure at 0x109451bd0>"
      ]
     },
     "metadata": {},
     "output_type": "display_data"
    }
   ],
   "source": [
    "## Plot them all on 1 graph\n",
    "plt.figure(figsize=(16,10))\n",
    "plt.xlim([-0.1, 1.1])\n",
    "plt.ylim([-0.1, 1.1])\n",
    "plt.title('ROC Curve for All Models')\n",
    "plt.xlabel('False Positive Rate (FPR)')\n",
    "plt.ylabel('True Positive Rate (TPR)')\n",
    "for i in range(len(fpr_list)):\n",
    "    plt.plot(fpr_list[i], tpr_list[i], label = model_names[i] + ' - AUC: ' + str(auc_list[i]))\n",
    "plt.legend(loc = 0, fontsize = 15)"
   ]
  },
  {
   "cell_type": "markdown",
   "metadata": {},
   "source": [
    "## Challenge 3\n",
    "\n",
    "Calculate the same metrics you did in challenge 1, but this time in a cross validation scheme with the cross_val_score function (like in Challenge 9)."
   ]
  },
  {
   "cell_type": "code",
   "execution_count": 10,
   "metadata": {
    "collapsed": false
   },
   "outputs": [
    {
     "data": {
      "text/html": [
       "<div>\n",
       "<table border=\"1\" class=\"dataframe\">\n",
       "  <thead>\n",
       "    <tr style=\"text-align: right;\">\n",
       "      <th></th>\n",
       "      <th>accuracy</th>\n",
       "      <th>recall</th>\n",
       "      <th>precision</th>\n",
       "      <th>f1</th>\n",
       "    </tr>\n",
       "  </thead>\n",
       "  <tbody>\n",
       "    <tr>\n",
       "      <th>KNN</th>\n",
       "      <td>0.933333</td>\n",
       "      <td>0.934524</td>\n",
       "      <td>0.897096</td>\n",
       "      <td>0.915323</td>\n",
       "    </tr>\n",
       "    <tr>\n",
       "      <th>Logistic</th>\n",
       "      <td>0.960920</td>\n",
       "      <td>0.952381</td>\n",
       "      <td>0.949399</td>\n",
       "      <td>0.950059</td>\n",
       "    </tr>\n",
       "    <tr>\n",
       "      <th>Naive Bayes</th>\n",
       "      <td>0.931034</td>\n",
       "      <td>0.916667</td>\n",
       "      <td>0.908613</td>\n",
       "      <td>0.911185</td>\n",
       "    </tr>\n",
       "    <tr>\n",
       "      <th>SVM</th>\n",
       "      <td>0.954023</td>\n",
       "      <td>0.964286</td>\n",
       "      <td>0.922271</td>\n",
       "      <td>0.942184</td>\n",
       "    </tr>\n",
       "    <tr>\n",
       "      <th>Decision Tree</th>\n",
       "      <td>0.944828</td>\n",
       "      <td>0.958333</td>\n",
       "      <td>0.930105</td>\n",
       "      <td>0.932353</td>\n",
       "    </tr>\n",
       "    <tr>\n",
       "      <th>Random Forest</th>\n",
       "      <td>0.963218</td>\n",
       "      <td>0.970238</td>\n",
       "      <td>0.948682</td>\n",
       "      <td>0.970019</td>\n",
       "    </tr>\n",
       "  </tbody>\n",
       "</table>\n",
       "</div>"
      ],
      "text/plain": [
       "               accuracy    recall  precision        f1\n",
       "KNN            0.933333  0.934524   0.897096  0.915323\n",
       "Logistic       0.960920  0.952381   0.949399  0.950059\n",
       "Naive Bayes    0.931034  0.916667   0.908613  0.911185\n",
       "SVM            0.954023  0.964286   0.922271  0.942184\n",
       "Decision Tree  0.944828  0.958333   0.930105  0.932353\n",
       "Random Forest  0.963218  0.970238   0.948682  0.970019"
      ]
     },
     "execution_count": 10,
     "metadata": {},
     "output_type": "execute_result"
    }
   ],
   "source": [
    "cf_score_df = pd.DataFrame()\n",
    "\n",
    "for score_type in ['accuracy', 'recall', 'precision', 'f1']:\n",
    "    score_list = []\n",
    "    for model in models:\n",
    "        score_list.append(np.mean(cross_val_score(model, X, y, scoring=score_type)))\n",
    "    cf_score_df[score_type] = score_list\n",
    "\n",
    "cf_score_df.set_index([model_names])"
   ]
  },
  {
   "cell_type": "markdown",
   "metadata": {},
   "source": [
    "## Challenge 4\n",
    "\n",
    "For your movie classifiers, calculate the precision and recall for each class."
   ]
  },
  {
   "cell_type": "code",
   "execution_count": 11,
   "metadata": {
    "collapsed": true
   },
   "outputs": [],
   "source": [
    "movies = pd.read_csv(\"../03-Linear-Regression/2013_movies.csv\")\n",
    "movies = movies.dropna()\n",
    "X_movies = movies[['Budget', 'DomesticTotalGross', 'Runtime']]\n",
    "y_movies = movies.Rating\n",
    "\n",
    "X_m_train, X_m_test, y_m_train, y_m_test = train_test_split(X_movies, y_movies, test_size = 0.3, random_state = 4444)"
   ]
  },
  {
   "cell_type": "code",
   "execution_count": 12,
   "metadata": {
    "collapsed": false
   },
   "outputs": [
    {
     "name": "stdout",
     "output_type": "stream",
     "text": [
      "Precision for R, PG-13, PG: [ 0.          0.5         0.66666667]\n",
      "Recall for R, PG-13, PG: [ 0.          0.63636364  0.72727273]\n"
     ]
    }
   ],
   "source": [
    "knn_movies = KNeighborsClassifier(5)\n",
    "knn_movies.fit(X_m_train, y_m_train)\n",
    "knn_m_prediction = knn_movies.predict(X_m_test)\n",
    "\n",
    "print 'Precision for R, PG-13, PG:', precision_score(y_m_test, knn_m_prediction, average = None)\n",
    "print 'Recall for R, PG-13, PG:', recall_score(y_m_test, knn_m_prediction, average = None)"
   ]
  },
  {
   "cell_type": "code",
   "execution_count": 17,
   "metadata": {
    "collapsed": false
   },
   "outputs": [
    {
     "name": "stdout",
     "output_type": "stream",
     "text": [
      "Precision for R, PG-13, PG: [ 0.          0.40909091  0.6       ]\n",
      "Recall for R, PG-13, PG: [ 0.          0.81818182  0.27272727]\n"
     ]
    }
   ],
   "source": [
    "log_movies = LogisticRegression()\n",
    "log_movies.fit(X_m_train, y_m_train)\n",
    "log_m_prediction = log_movies.predict(X_m_test)\n",
    "\n",
    "print 'Precision for R, PG-13, PG:', precision_score(y_m_test, log_m_prediction, average = None)\n",
    "print 'Recall for R, PG-13, PG:', recall_score(y_m_test, log_m_prediction, average = None)"
   ]
  },
  {
   "cell_type": "markdown",
   "metadata": {},
   "source": [
    "## Challenge 5\n",
    "\n",
    "Draw the ROC curve (and calculate AUC) for the logistic regression classifier from challenge 12."
   ]
  },
  {
   "cell_type": "code",
   "execution_count": 14,
   "metadata": {
    "collapsed": true
   },
   "outputs": [],
   "source": [
    "survival = pd.read_csv('../05-Classification/haberman.data', names = ['age', 'year', 'nodes', 'survival'])"
   ]
  },
  {
   "cell_type": "code",
   "execution_count": 15,
   "metadata": {
    "collapsed": false
   },
   "outputs": [],
   "source": [
    "## Use logistic regression to predict survival 5+ years\n",
    "y_survival = survival.survival\n",
    "X_survival = survival.drop(['survival'], 1)\n",
    "\n",
    "X_train, X_test, y_train, y_test = train_test_split(X_survival, y_survival, test_size = 0.3, random_state = 4444)\n",
    "\n",
    "survival_logreg = LogisticRegression()\n",
    "survival_logreg.fit(X_train, y_train)\n",
    "\n",
    "y_survival_prob = survival_logreg.predict_proba(X_test)[:,1]\n",
    "fpr, tpr, _ = roc_curve(y_test, y_survival_prob, pos_label = 2)"
   ]
  },
  {
   "cell_type": "code",
   "execution_count": 16,
   "metadata": {
    "collapsed": false
   },
   "outputs": [
    {
     "name": "stdout",
     "output_type": "stream",
     "text": [
      "AUC: 0.647522522523\n"
     ]
    },
    {
     "data": {
      "image/png": "[encoded data removed]",
      "text/plain": [
       "<matplotlib.figure.Figure at 0x109451550>"
      ]
     },
     "metadata": {},
     "output_type": "display_data"
    }
   ],
   "source": [
    "## Plot ROC and calculate the AUC\n",
    "plt.figure(figsize=(16,10))\n",
    "plt.xlim([-0.1, 1.1])\n",
    "plt.ylim([-0.1, 1.1])\n",
    "plt.title('ROC Curve for Logistic Regression on Cancer Survival Dataset')\n",
    "plt.xlabel('False Positive Rate (FPR)')\n",
    "plt.ylabel('True Positive Rate (TPR)')\n",
    "plt.plot(fpr, tpr)\n",
    "print 'AUC:', auc(fpr, tpr)"
   ]
  },
  {
   "cell_type": "code",
   "execution_count": null,
   "metadata": {
    "collapsed": true
   },
   "outputs": [],
   "source": []
  }
 ],
 "metadata": {
  "kernelspec": {
   "display_name": "Python 2",
   "language": "python",
   "name": "python2"
  },
  "language_info": {
   "codemirror_mode": {
    "name": "ipython",
    "version": 2
   },
   "file_extension": ".py",
   "mimetype": "text/x-python",
   "name": "python",
   "nbconvert_exporter": "python",
   "pygments_lexer": "ipython2",
   "version": "2.7.11"
  }
 },
 "nbformat": 4,
 "nbformat_minor": 0
}
